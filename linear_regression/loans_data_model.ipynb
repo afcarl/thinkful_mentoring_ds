{
 "metadata": {
  "name": "loans_data_model"
 },
 "nbformat": 3,
 "nbformat_minor": 0,
 "worksheets": [
  {
   "cells": [
    {
     "cell_type": "code",
     "collapsed": false,
     "input": [
      "import numpy as np\n",
      "import pandas as pd\n",
      "import statsmodels.api as sm\n",
      "\n",
      "\n",
      "# Load and clean data\n",
      "loansData = pd.read_csv('https://spark-public.s3.amazonaws.com/dataanalysis/loansData.csv')\n",
      "\n",
      "# Preliminary analysis indicated that these are the reliable predictors:\n",
      "model_df = loansData[['Interest.Rate', 'FICO.Range', 'Amount.Requested']]\n",
      "\n",
      "print model_df.head()\n",
      "\n",
      "# Clean data and engineer features\n",
      "model_df['Interest.Rate'] = model_df['Interest.Rate'].apply(lambda x: float(x[:-1]))\n",
      "find_mid = lambda x: (float(x[:2]) + float(x[-2:])) / 2\n",
      "model_df['FICO.Score'] = model_df['FICO.Range'].apply(find_mid)\n",
      "model_df['Intercept'] = 1.0\n",
      "\n",
      "print model_df.head()"
     ],
     "language": "python",
     "metadata": {},
     "outputs": [
      {
       "output_type": "stream",
       "stream": "stdout",
       "text": [
        "      Interest.Rate FICO.Range  Amount.Requested\n",
        "81174         8.90%    735-739             20000\n",
        "99592        12.12%    715-719             19200\n",
        "80059        21.98%    690-694             35000\n",
        "15825         9.99%    695-699             10000\n",
        "33182        11.71%    695-699             12000\n",
        "       Interest.Rate FICO.Range  Amount.Requested  FICO.Score  Intercept\n",
        "81174           8.90    735-739             20000        56.0          1\n",
        "99592          12.12    715-719             19200        45.0          1\n",
        "80059          21.98    690-694             35000        81.5          1\n",
        "15825           9.99    695-699             10000        84.0          1\n",
        "33182          11.71    695-699             12000        84.0          1\n"
       ]
      }
     ],
     "prompt_number": 26
    },
    {
     "cell_type": "code",
     "collapsed": false,
     "input": [
      "model = sm.OLS(model_df['Amount.Requested'], model_df[['Intercept','Interest.Rate', 'FICO.Score']])\n",
      "f = model.fit()\n",
      "f.summary()"
     ],
     "language": "python",
     "metadata": {},
     "outputs": [
      {
       "html": [
        "<table class=\"simpletable\">\n",
        "<caption>OLS Regression Results</caption>\n",
        "<tr>\n",
        "  <th>Dep. Variable:</th>    <td>Amount.Requested</td> <th>  R-squared:         </th> <td>   0.123</td> \n",
        "</tr>\n",
        "<tr>\n",
        "  <th>Model:</th>                   <td>OLS</td>       <th>  Adj. R-squared:    </th> <td>   0.123</td> \n",
        "</tr>\n",
        "<tr>\n",
        "  <th>Method:</th>             <td>Least Squares</td>  <th>  F-statistic:       </th> <td>   175.5</td> \n",
        "</tr>\n",
        "<tr>\n",
        "  <th>Date:</th>             <td>Tue, 26 May 2015</td> <th>  Prob (F-statistic):</th> <td>5.02e-72</td> \n",
        "</tr>\n",
        "<tr>\n",
        "  <th>Time:</th>                 <td>19:18:40</td>     <th>  Log-Likelihood:    </th> <td> -25788.</td> \n",
        "</tr>\n",
        "<tr>\n",
        "  <th>No. Observations:</th>      <td>  2500</td>      <th>  AIC:               </th> <td>5.158e+04</td>\n",
        "</tr>\n",
        "<tr>\n",
        "  <th>Df Residuals:</th>          <td>  2497</td>      <th>  BIC:               </th> <td>5.160e+04</td>\n",
        "</tr>\n",
        "<tr>\n",
        "  <th>Df Model:</th>              <td>     2</td>      <th>                     </th>     <td> </td>    \n",
        "</tr>\n",
        "</table>\n",
        "<table class=\"simpletable\">\n",
        "<tr>\n",
        "        <td></td>           <th>coef</th>     <th>std err</th>      <th>t</th>      <th>P>|t|</th> <th>[95.0% Conf. Int.]</th> \n",
        "</tr>\n",
        "<tr>\n",
        "  <th>Intercept</th>     <td> 7528.0816</td> <td>  719.435</td> <td>   10.464</td> <td> 0.000</td> <td> 6117.332  8938.831</td>\n",
        "</tr>\n",
        "<tr>\n",
        "  <th>Interest.Rate</th> <td>  665.5148</td> <td>   35.774</td> <td>   18.603</td> <td> 0.000</td> <td>  595.365   735.665</td>\n",
        "</tr>\n",
        "<tr>\n",
        "  <th>FICO.Score</th>    <td>  -60.1444</td> <td>    9.977</td> <td>   -6.028</td> <td> 0.000</td> <td>  -79.709   -40.580</td>\n",
        "</tr>\n",
        "</table>\n",
        "<table class=\"simpletable\">\n",
        "<tr>\n",
        "  <th>Omnibus:</th>       <td>222.798</td> <th>  Durbin-Watson:     </th> <td>   1.979</td>\n",
        "</tr>\n",
        "<tr>\n",
        "  <th>Prob(Omnibus):</th> <td> 0.000</td>  <th>  Jarque-Bera (JB):  </th> <td> 284.287</td>\n",
        "</tr>\n",
        "<tr>\n",
        "  <th>Skew:</th>          <td> 0.788</td>  <th>  Prob(JB):          </th> <td>1.85e-62</td>\n",
        "</tr>\n",
        "<tr>\n",
        "  <th>Kurtosis:</th>      <td> 3.494</td>  <th>  Cond. No.          </th> <td>    327.</td>\n",
        "</tr>\n",
        "</table>"
       ],
       "output_type": "pyout",
       "prompt_number": 27,
       "text": [
        "<class 'statsmodels.iolib.summary.Summary'>\n",
        "\"\"\"\n",
        "                            OLS Regression Results                            \n",
        "==============================================================================\n",
        "Dep. Variable:       Amount.Requested   R-squared:                       0.123\n",
        "Model:                            OLS   Adj. R-squared:                  0.123\n",
        "Method:                 Least Squares   F-statistic:                     175.5\n",
        "Date:                Tue, 26 May 2015   Prob (F-statistic):           5.02e-72\n",
        "Time:                        19:18:40   Log-Likelihood:                -25788.\n",
        "No. Observations:                2500   AIC:                         5.158e+04\n",
        "Df Residuals:                    2497   BIC:                         5.160e+04\n",
        "Df Model:                           2                                         \n",
        "=================================================================================\n",
        "                    coef    std err          t      P>|t|      [95.0% Conf. Int.]\n",
        "---------------------------------------------------------------------------------\n",
        "Intercept      7528.0816    719.435     10.464      0.000      6117.332  8938.831\n",
        "Interest.Rate   665.5148     35.774     18.603      0.000       595.365   735.665\n",
        "FICO.Score      -60.1444      9.977     -6.028      0.000       -79.709   -40.580\n",
        "==============================================================================\n",
        "Omnibus:                      222.798   Durbin-Watson:                   1.979\n",
        "Prob(Omnibus):                  0.000   Jarque-Bera (JB):              284.287\n",
        "Skew:                           0.788   Prob(JB):                     1.85e-62\n",
        "Kurtosis:                       3.494   Cond. No.                         327.\n",
        "==============================================================================\n",
        "\"\"\""
       ]
      }
     ],
     "prompt_number": 27
    }
   ],
   "metadata": {}
  }
 ]
}