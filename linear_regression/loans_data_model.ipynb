{
 "metadata": {
  "name": "loans_data_model"
 },
 "nbformat": 3,
 "nbformat_minor": 0,
 "worksheets": [
  {
   "cells": [
    {
     "cell_type": "code",
     "collapsed": false,
     "input": [
      "import numpy as np\n",
      "import pandas as pd\n",
      "import statsmodels.api as sm\n",
      "\n",
      "\n",
      "# Load and clean data\n",
      "loansData = pd.read_csv('https://spark-public.s3.amazonaws.com/dataanalysis/loansData.csv')\n",
      "\n",
      "# Preliminary analysis indicated that these are the reliable predictors:\n",
      "model_df = loansData[['Interest.Rate', 'FICO.Range', 'Amount.Requested']]\n",
      "\n",
      "print model_df.head()\n",
      "\n",
      "# Clean data and engineer features\n",
      "model_df['Interest.Rate'] = model_df['Interest.Rate'].apply(lambda x: float(x[:-1]))\n",
      "find_mid = lambda x: (float(x[:3]) + float(x[-3:])) / 2\n",
      "model_df['FICO.Score'] = model_df['FICO.Range'].apply(find_mid)\n",
      "model_df['Intercept'] = 1.0\n",
      "\n",
      "print model_df.head()"
     ],
     "language": "python",
     "metadata": {},
     "outputs": [
      {
       "output_type": "stream",
       "stream": "stdout",
       "text": [
        "      Interest.Rate FICO.Range  Amount.Requested\n",
        "81174         8.90%    735-739             20000\n",
        "99592        12.12%    715-719             19200\n",
        "80059        21.98%    690-694             35000\n",
        "15825         9.99%    695-699             10000\n",
        "33182        11.71%    695-699             12000\n",
        "       Interest.Rate FICO.Range  Amount.Requested  FICO.Score  Intercept\n",
        "81174           8.90    735-739             20000         737          1\n",
        "99592          12.12    715-719             19200         717          1\n",
        "80059          21.98    690-694             35000         692          1\n",
        "15825           9.99    695-699             10000         697          1\n",
        "33182          11.71    695-699             12000         697          1\n"
       ]
      }
     ],
     "prompt_number": 36
    },
    {
     "cell_type": "code",
     "collapsed": false,
     "input": [
      "model = sm.OLS(model_df['Amount.Requested'], model_df[['Intercept','Interest.Rate', 'FICO.Score']])\n",
      "f = model.fit()\n",
      "f.summary()"
     ],
     "language": "python",
     "metadata": {},
     "outputs": [
      {
       "html": [
        "<table class=\"simpletable\">\n",
        "<caption>OLS Regression Results</caption>\n",
        "<tr>\n",
        "  <th>Dep. Variable:</th>    <td>Amount.Requested</td> <th>  R-squared:         </th> <td>   0.314</td> \n",
        "</tr>\n",
        "<tr>\n",
        "  <th>Model:</th>                   <td>OLS</td>       <th>  Adj. R-squared:    </th> <td>   0.313</td> \n",
        "</tr>\n",
        "<tr>\n",
        "  <th>Method:</th>             <td>Least Squares</td>  <th>  F-statistic:       </th> <td>   571.6</td> \n",
        "</tr>\n",
        "<tr>\n",
        "  <th>Date:</th>             <td>Tue, 26 May 2015</td> <th>  Prob (F-statistic):</th> <td>4.15e-205</td>\n",
        "</tr>\n",
        "<tr>\n",
        "  <th>Time:</th>                 <td>19:37:32</td>     <th>  Log-Likelihood:    </th> <td> -25481.</td> \n",
        "</tr>\n",
        "<tr>\n",
        "  <th>No. Observations:</th>      <td>  2500</td>      <th>  AIC:               </th> <td>5.097e+04</td>\n",
        "</tr>\n",
        "<tr>\n",
        "  <th>Df Residuals:</th>          <td>  2497</td>      <th>  BIC:               </th> <td>5.099e+04</td>\n",
        "</tr>\n",
        "<tr>\n",
        "  <th>Df Model:</th>              <td>     2</td>      <th>                     </th>     <td> </td>    \n",
        "</tr>\n",
        "</table>\n",
        "<table class=\"simpletable\">\n",
        "<tr>\n",
        "        <td></td>           <th>coef</th>     <th>std err</th>      <th>t</th>      <th>P>|t|</th> <th>[95.0% Conf. Int.]</th> \n",
        "</tr>\n",
        "<tr>\n",
        "  <th>Intercept</th>     <td>-1.076e+05</td> <td> 4134.141</td> <td>  -26.039</td> <td> 0.000</td> <td>-1.16e+05 -9.95e+04</td>\n",
        "</tr>\n",
        "<tr>\n",
        "  <th>Interest.Rate</th> <td> 1467.8398</td> <td>   43.891</td> <td>   33.443</td> <td> 0.000</td> <td> 1381.772  1553.907</td>\n",
        "</tr>\n",
        "<tr>\n",
        "  <th>FICO.Score</th>    <td>  142.5028</td> <td>    5.235</td> <td>   27.223</td> <td> 0.000</td> <td>  132.238   152.768</td>\n",
        "</tr>\n",
        "</table>\n",
        "<table class=\"simpletable\">\n",
        "<tr>\n",
        "  <th>Omnibus:</th>       <td>108.826</td> <th>  Durbin-Watson:     </th> <td>   1.995</td>\n",
        "</tr>\n",
        "<tr>\n",
        "  <th>Prob(Omnibus):</th> <td> 0.000</td>  <th>  Jarque-Bera (JB):  </th> <td> 138.050</td>\n",
        "</tr>\n",
        "<tr>\n",
        "  <th>Skew:</th>          <td> 0.452</td>  <th>  Prob(JB):          </th> <td>1.05e-30</td>\n",
        "</tr>\n",
        "<tr>\n",
        "  <th>Kurtosis:</th>      <td> 3.713</td>  <th>  Cond. No.          </th> <td>2.27e+04</td>\n",
        "</tr>\n",
        "</table>"
       ],
       "output_type": "pyout",
       "prompt_number": 37,
       "text": [
        "<class 'statsmodels.iolib.summary.Summary'>\n",
        "\"\"\"\n",
        "                            OLS Regression Results                            \n",
        "==============================================================================\n",
        "Dep. Variable:       Amount.Requested   R-squared:                       0.314\n",
        "Model:                            OLS   Adj. R-squared:                  0.313\n",
        "Method:                 Least Squares   F-statistic:                     571.6\n",
        "Date:                Tue, 26 May 2015   Prob (F-statistic):          4.15e-205\n",
        "Time:                        19:37:32   Log-Likelihood:                -25481.\n",
        "No. Observations:                2500   AIC:                         5.097e+04\n",
        "Df Residuals:                    2497   BIC:                         5.099e+04\n",
        "Df Model:                           2                                         \n",
        "=================================================================================\n",
        "                    coef    std err          t      P>|t|      [95.0% Conf. Int.]\n",
        "---------------------------------------------------------------------------------\n",
        "Intercept     -1.076e+05   4134.141    -26.039      0.000     -1.16e+05 -9.95e+04\n",
        "Interest.Rate  1467.8398     43.891     33.443      0.000      1381.772  1553.907\n",
        "FICO.Score      142.5028      5.235     27.223      0.000       132.238   152.768\n",
        "==============================================================================\n",
        "Omnibus:                      108.826   Durbin-Watson:                   1.995\n",
        "Prob(Omnibus):                  0.000   Jarque-Bera (JB):              138.050\n",
        "Skew:                           0.452   Prob(JB):                     1.05e-30\n",
        "Kurtosis:                       3.713   Cond. No.                     2.27e+04\n",
        "==============================================================================\n",
        "\n",
        "The condition number is large, 2.27e+04. This might indicate that there are\n",
        "strong multicollinearity or other numerical problems.\n",
        "\"\"\""
       ]
      }
     ],
     "prompt_number": 37
    },
    {
     "cell_type": "code",
     "collapsed": false,
     "input": [],
     "language": "python",
     "metadata": {},
     "outputs": []
    }
   ],
   "metadata": {}
  }
 ]
}