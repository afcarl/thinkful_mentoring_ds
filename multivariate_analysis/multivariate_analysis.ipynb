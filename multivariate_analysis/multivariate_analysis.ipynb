{
 "cells": [
  {
   "cell_type": "code",
   "execution_count": 30,
   "metadata": {
    "collapsed": false
   },
   "outputs": [],
   "source": [
    "import numpy as np\n",
    "import pandas as pd\n",
    "import statsmodels.api as sm\n",
    "\n",
    "\n",
    "# Load and clean data\n",
    "loans_data = pd.read_csv('https://spark-public.s3.amazonaws.com/dataanalysis/loansData.csv')\n",
    "# Rename Columns\n",
    "loans_data.columns = loans_data.columns.map(lambda x: x.replace('.', '_').lower())"
   ]
  },
  {
   "cell_type": "markdown",
   "metadata": {},
   "source": [
    "# Simple Regression: interest_rate ~ monthly_income"
   ]
  },
  {
   "cell_type": "code",
   "execution_count": 32,
   "metadata": {
    "collapsed": false
   },
   "outputs": [
    {
     "name": "stderr",
     "output_type": "stream",
     "text": [
      "/Library/Python/2.7/site-packages/IPython/kernel/__main__.py:4: SettingWithCopyWarning: \n",
      "A value is trying to be set on a copy of a slice from a DataFrame.\n",
      "Try using .loc[row_indexer,col_indexer] = value instead\n",
      "\n",
      "See the the caveats in the documentation: http://pandas.pydata.org/pandas-docs/stable/indexing.html#indexing-view-versus-copy\n"
     ]
    },
    {
     "data": {
      "text/html": [
       "<table class=\"simpletable\">\n",
       "<caption>OLS Regression Results</caption>\n",
       "<tr>\n",
       "  <th>Dep. Variable:</th>      <td>interest_rate</td>  <th>  R-squared:         </th> <td>   0.000</td> \n",
       "</tr>\n",
       "<tr>\n",
       "  <th>Model:</th>                   <td>OLS</td>       <th>  Adj. R-squared:    </th> <td>  -0.000</td> \n",
       "</tr>\n",
       "<tr>\n",
       "  <th>Method:</th>             <td>Least Squares</td>  <th>  F-statistic:       </th> <td>  0.3764</td> \n",
       "</tr>\n",
       "<tr>\n",
       "  <th>Date:</th>             <td>Tue, 07 Jul 2015</td> <th>  Prob (F-statistic):</th>  <td> 0.540</td>  \n",
       "</tr>\n",
       "<tr>\n",
       "  <th>Time:</th>                 <td>09:36:27</td>     <th>  Log-Likelihood:    </th> <td> -7118.1</td> \n",
       "</tr>\n",
       "<tr>\n",
       "  <th>No. Observations:</th>      <td>  2499</td>      <th>  AIC:               </th> <td>1.424e+04</td>\n",
       "</tr>\n",
       "<tr>\n",
       "  <th>Df Residuals:</th>          <td>  2497</td>      <th>  BIC:               </th> <td>1.425e+04</td>\n",
       "</tr>\n",
       "<tr>\n",
       "  <th>Df Model:</th>              <td>     1</td>      <th>                     </th>     <td> </td>    \n",
       "</tr>\n",
       "<tr>\n",
       "  <th>Covariance Type:</th>      <td>nonrobust</td>    <th>                     </th>     <td> </td>    \n",
       "</tr>\n",
       "</table>\n",
       "<table class=\"simpletable\">\n",
       "<tr>\n",
       "         <td></td>           <th>coef</th>     <th>std err</th>      <th>t</th>      <th>P>|t|</th> <th>[95.0% Conf. Int.]</th> \n",
       "</tr>\n",
       "<tr>\n",
       "  <th>const</th>          <td>   12.9956</td> <td>    0.146</td> <td>   88.868</td> <td> 0.000</td> <td>   12.709    13.282</td>\n",
       "</tr>\n",
       "<tr>\n",
       "  <th>monthly_income</th> <td> 1.294e-05</td> <td> 2.11e-05</td> <td>    0.614</td> <td> 0.540</td> <td>-2.84e-05  5.43e-05</td>\n",
       "</tr>\n",
       "</table>\n",
       "<table class=\"simpletable\">\n",
       "<tr>\n",
       "  <th>Omnibus:</th>       <td>69.811</td> <th>  Durbin-Watson:     </th> <td>   1.991</td>\n",
       "</tr>\n",
       "<tr>\n",
       "  <th>Prob(Omnibus):</th> <td> 0.000</td> <th>  Jarque-Bera (JB):  </th> <td>  54.205</td>\n",
       "</tr>\n",
       "<tr>\n",
       "  <th>Skew:</th>          <td> 0.274</td> <th>  Prob(JB):          </th> <td>1.70e-12</td>\n",
       "</tr>\n",
       "<tr>\n",
       "  <th>Kurtosis:</th>      <td> 2.531</td> <th>  Cond. No.          </th> <td>1.21e+04</td>\n",
       "</tr>\n",
       "</table>"
      ],
      "text/plain": [
       "<class 'statsmodels.iolib.summary.Summary'>\n",
       "\"\"\"\n",
       "                            OLS Regression Results                            \n",
       "==============================================================================\n",
       "Dep. Variable:          interest_rate   R-squared:                       0.000\n",
       "Model:                            OLS   Adj. R-squared:                 -0.000\n",
       "Method:                 Least Squares   F-statistic:                    0.3764\n",
       "Date:                Tue, 07 Jul 2015   Prob (F-statistic):              0.540\n",
       "Time:                        09:36:27   Log-Likelihood:                -7118.1\n",
       "No. Observations:                2499   AIC:                         1.424e+04\n",
       "Df Residuals:                    2497   BIC:                         1.425e+04\n",
       "Df Model:                           1                                         \n",
       "Covariance Type:            nonrobust                                         \n",
       "==================================================================================\n",
       "                     coef    std err          t      P>|t|      [95.0% Conf. Int.]\n",
       "----------------------------------------------------------------------------------\n",
       "const             12.9956      0.146     88.868      0.000        12.709    13.282\n",
       "monthly_income  1.294e-05   2.11e-05      0.614      0.540     -2.84e-05  5.43e-05\n",
       "==============================================================================\n",
       "Omnibus:                       69.811   Durbin-Watson:                   1.991\n",
       "Prob(Omnibus):                  0.000   Jarque-Bera (JB):               54.205\n",
       "Skew:                           0.274   Prob(JB):                     1.70e-12\n",
       "Kurtosis:                       2.531   Cond. No.                     1.21e+04\n",
       "==============================================================================\n",
       "\n",
       "Warnings:\n",
       "[1] Standard Errors assume that the covariance matrix of the errors is correctly specified.\n",
       "[2] The condition number is large, 1.21e+04. This might indicate that there are\n",
       "strong multicollinearity or other numerical problems.\n",
       "\"\"\""
      ]
     },
     "execution_count": 32,
     "metadata": {},
     "output_type": "execute_result"
    }
   ],
   "source": [
    "df = loans_data.dropna(subset=['home_ownership', 'interest_rate', 'monthly_income'])\n",
    "\n",
    "# Clean Interest Rate\n",
    "df['interest_rate'] = df['interest_rate'].apply(lambda x: float(str(x).rstrip('%')))\n",
    "\n",
    "X = sm.add_constant(df['monthly_income'])\n",
    "est = sm.OLS(df['interest_rate'], X).fit()\n",
    "\n",
    "est.summary()"
   ]
  },
  {
   "cell_type": "markdown",
   "metadata": {},
   "source": [
    "# Including Categorical Variable: home_ownership"
   ]
  },
  {
   "cell_type": "code",
   "execution_count": 27,
   "metadata": {
    "collapsed": false
   },
   "outputs": [
    {
     "data": {
      "text/html": [
       "<table class=\"simpletable\">\n",
       "<caption>OLS Regression Results</caption>\n",
       "<tr>\n",
       "  <th>Dep. Variable:</th>      <td>interest_rate</td>  <th>  R-squared:         </th> <td>   0.007</td> \n",
       "</tr>\n",
       "<tr>\n",
       "  <th>Model:</th>                   <td>OLS</td>       <th>  Adj. R-squared:    </th> <td>   0.006</td> \n",
       "</tr>\n",
       "<tr>\n",
       "  <th>Method:</th>             <td>Least Squares</td>  <th>  F-statistic:       </th> <td>   5.748</td> \n",
       "</tr>\n",
       "<tr>\n",
       "  <th>Date:</th>             <td>Tue, 07 Jul 2015</td> <th>  Prob (F-statistic):</th> <td>0.000647</td> \n",
       "</tr>\n",
       "<tr>\n",
       "  <th>Time:</th>                 <td>09:33:20</td>     <th>  Log-Likelihood:    </th> <td> -7095.4</td> \n",
       "</tr>\n",
       "<tr>\n",
       "  <th>No. Observations:</th>      <td>  2494</td>      <th>  AIC:               </th> <td>1.420e+04</td>\n",
       "</tr>\n",
       "<tr>\n",
       "  <th>Df Residuals:</th>          <td>  2490</td>      <th>  BIC:               </th> <td>1.422e+04</td>\n",
       "</tr>\n",
       "<tr>\n",
       "  <th>Df Model:</th>              <td>     3</td>      <th>                     </th>     <td> </td>    \n",
       "</tr>\n",
       "<tr>\n",
       "  <th>Covariance Type:</th>      <td>nonrobust</td>    <th>                     </th>     <td> </td>    \n",
       "</tr>\n",
       "</table>\n",
       "<table class=\"simpletable\">\n",
       "<tr>\n",
       "             <td></td>               <th>coef</th>     <th>std err</th>      <th>t</th>      <th>P>|t|</th> <th>[95.0% Conf. Int.]</th> \n",
       "</tr>\n",
       "<tr>\n",
       "  <th>Intercept</th>              <td>   12.5396</td> <td>    0.189</td> <td>   66.517</td> <td> 0.000</td> <td>   12.170    12.909</td>\n",
       "</tr>\n",
       "<tr>\n",
       "  <th>home_ownership[T.OWN]</th>  <td>    0.2214</td> <td>    0.322</td> <td>    0.688</td> <td> 0.491</td> <td>   -0.409     0.852</td>\n",
       "</tr>\n",
       "<tr>\n",
       "  <th>home_ownership[T.RENT]</th> <td>    0.7248</td> <td>    0.178</td> <td>    4.075</td> <td> 0.000</td> <td>    0.376     1.074</td>\n",
       "</tr>\n",
       "<tr>\n",
       "  <th>monthly_income</th>         <td>  3.04e-05</td> <td> 2.16e-05</td> <td>    1.410</td> <td> 0.159</td> <td>-1.19e-05  7.27e-05</td>\n",
       "</tr>\n",
       "</table>\n",
       "<table class=\"simpletable\">\n",
       "<tr>\n",
       "  <th>Omnibus:</th>       <td>68.335</td> <th>  Durbin-Watson:     </th> <td>   1.989</td>\n",
       "</tr>\n",
       "<tr>\n",
       "  <th>Prob(Omnibus):</th> <td> 0.000</td> <th>  Jarque-Bera (JB):  </th> <td>  54.958</td>\n",
       "</tr>\n",
       "<tr>\n",
       "  <th>Skew:</th>          <td> 0.285</td> <th>  Prob(JB):          </th> <td>1.16e-12</td>\n",
       "</tr>\n",
       "<tr>\n",
       "  <th>Kurtosis:</th>      <td> 2.547</td> <th>  Cond. No.          </th> <td>2.82e+04</td>\n",
       "</tr>\n",
       "</table>"
      ],
      "text/plain": [
       "<class 'statsmodels.iolib.summary.Summary'>\n",
       "\"\"\"\n",
       "                            OLS Regression Results                            \n",
       "==============================================================================\n",
       "Dep. Variable:          interest_rate   R-squared:                       0.007\n",
       "Model:                            OLS   Adj. R-squared:                  0.006\n",
       "Method:                 Least Squares   F-statistic:                     5.748\n",
       "Date:                Tue, 07 Jul 2015   Prob (F-statistic):           0.000647\n",
       "Time:                        09:33:20   Log-Likelihood:                -7095.4\n",
       "No. Observations:                2494   AIC:                         1.420e+04\n",
       "Df Residuals:                    2490   BIC:                         1.422e+04\n",
       "Df Model:                           3                                         \n",
       "Covariance Type:            nonrobust                                         \n",
       "==========================================================================================\n",
       "                             coef    std err          t      P>|t|      [95.0% Conf. Int.]\n",
       "------------------------------------------------------------------------------------------\n",
       "Intercept                 12.5396      0.189     66.517      0.000        12.170    12.909\n",
       "home_ownership[T.OWN]      0.2214      0.322      0.688      0.491        -0.409     0.852\n",
       "home_ownership[T.RENT]     0.7248      0.178      4.075      0.000         0.376     1.074\n",
       "monthly_income           3.04e-05   2.16e-05      1.410      0.159     -1.19e-05  7.27e-05\n",
       "==============================================================================\n",
       "Omnibus:                       68.335   Durbin-Watson:                   1.989\n",
       "Prob(Omnibus):                  0.000   Jarque-Bera (JB):               54.958\n",
       "Skew:                           0.285   Prob(JB):                     1.16e-12\n",
       "Kurtosis:                       2.547   Cond. No.                     2.82e+04\n",
       "==============================================================================\n",
       "\n",
       "Warnings:\n",
       "[1] Standard Errors assume that the covariance matrix of the errors is correctly specified.\n",
       "[2] The condition number is large, 2.82e+04. This might indicate that there are\n",
       "strong multicollinearity or other numerical problems.\n",
       "\"\"\""
      ]
     },
     "execution_count": 27,
     "metadata": {},
     "output_type": "execute_result"
    }
   ],
   "source": [
    "import statsmodels.formula.api as smf\n",
    "\n",
    "#return home_ownership excluding OTHER and NONE\n",
    "filtered_df = df[df['home_ownership'].isin(['OWN','RENT','MORTGAGE'])]\n",
    "\n",
    "est = smf.ols(formula='interest_rate ~ monthly_income + home_ownership', data=filtered_df).fit()\n",
    "\n",
    "est.summary()"
   ]
  },
  {
   "cell_type": "markdown",
   "metadata": {},
   "source": [
    "# Include interaction between income and home ownership:"
   ]
  },
  {
   "cell_type": "markdown",
   "metadata": {},
   "source": [
    "Notice that there is now a home ownership specific coefficent for income. "
   ]
  },
  {
   "cell_type": "code",
   "execution_count": 29,
   "metadata": {
    "collapsed": false
   },
   "outputs": [
    {
     "data": {
      "text/html": [
       "<table class=\"simpletable\">\n",
       "<caption>OLS Regression Results</caption>\n",
       "<tr>\n",
       "  <th>Dep. Variable:</th>      <td>interest_rate</td>  <th>  R-squared:         </th> <td>   0.008</td> \n",
       "</tr>\n",
       "<tr>\n",
       "  <th>Model:</th>                   <td>OLS</td>       <th>  Adj. R-squared:    </th> <td>   0.006</td> \n",
       "</tr>\n",
       "<tr>\n",
       "  <th>Method:</th>             <td>Least Squares</td>  <th>  F-statistic:       </th> <td>   4.183</td> \n",
       "</tr>\n",
       "<tr>\n",
       "  <th>Date:</th>             <td>Tue, 07 Jul 2015</td> <th>  Prob (F-statistic):</th> <td>0.000869</td> \n",
       "</tr>\n",
       "<tr>\n",
       "  <th>Time:</th>                 <td>09:34:05</td>     <th>  Log-Likelihood:    </th> <td> -7093.5</td> \n",
       "</tr>\n",
       "<tr>\n",
       "  <th>No. Observations:</th>      <td>  2494</td>      <th>  AIC:               </th> <td>1.420e+04</td>\n",
       "</tr>\n",
       "<tr>\n",
       "  <th>Df Residuals:</th>          <td>  2488</td>      <th>  BIC:               </th> <td>1.423e+04</td>\n",
       "</tr>\n",
       "<tr>\n",
       "  <th>Df Model:</th>              <td>     5</td>      <th>                     </th>     <td> </td>    \n",
       "</tr>\n",
       "<tr>\n",
       "  <th>Covariance Type:</th>      <td>nonrobust</td>    <th>                     </th>     <td> </td>    \n",
       "</tr>\n",
       "</table>\n",
       "<table class=\"simpletable\">\n",
       "<tr>\n",
       "                    <td></td>                       <th>coef</th>     <th>std err</th>      <th>t</th>      <th>P>|t|</th> <th>[95.0% Conf. Int.]</th> \n",
       "</tr>\n",
       "<tr>\n",
       "  <th>Intercept</th>                             <td>   12.6717</td> <td>    0.207</td> <td>   61.191</td> <td> 0.000</td> <td>   12.266    13.078</td>\n",
       "</tr>\n",
       "<tr>\n",
       "  <th>home_ownership[T.OWN]</th>                 <td>    0.3051</td> <td>    0.589</td> <td>    0.518</td> <td> 0.605</td> <td>   -0.851     1.461</td>\n",
       "</tr>\n",
       "<tr>\n",
       "  <th>home_ownership[T.RENT]</th>                <td>    0.2115</td> <td>    0.331</td> <td>    0.639</td> <td> 0.523</td> <td>   -0.438     0.861</td>\n",
       "</tr>\n",
       "<tr>\n",
       "  <th>monthly_income</th>                        <td> 1.047e-05</td> <td> 2.51e-05</td> <td>    0.416</td> <td> 0.677</td> <td>-3.88e-05  5.98e-05</td>\n",
       "</tr>\n",
       "<tr>\n",
       "  <th>monthly_income:home_ownership[T.OWN]</th>  <td>-2.529e-05</td> <td>    0.000</td> <td>   -0.250</td> <td> 0.802</td> <td>   -0.000     0.000</td>\n",
       "</tr>\n",
       "<tr>\n",
       "  <th>monthly_income:home_ownership[T.RENT]</th> <td>  9.76e-05</td> <td> 5.27e-05</td> <td>    1.853</td> <td> 0.064</td> <td>-5.69e-06     0.000</td>\n",
       "</tr>\n",
       "</table>\n",
       "<table class=\"simpletable\">\n",
       "<tr>\n",
       "  <th>Omnibus:</th>       <td>67.204</td> <th>  Durbin-Watson:     </th> <td>   1.993</td>\n",
       "</tr>\n",
       "<tr>\n",
       "  <th>Prob(Omnibus):</th> <td> 0.000</td> <th>  Jarque-Bera (JB):  </th> <td>  53.680</td>\n",
       "</tr>\n",
       "<tr>\n",
       "  <th>Skew:</th>          <td> 0.279</td> <th>  Prob(JB):          </th> <td>2.21e-12</td>\n",
       "</tr>\n",
       "<tr>\n",
       "  <th>Kurtosis:</th>      <td> 2.547</td> <th>  Cond. No.          </th> <td>5.28e+04</td>\n",
       "</tr>\n",
       "</table>"
      ],
      "text/plain": [
       "<class 'statsmodels.iolib.summary.Summary'>\n",
       "\"\"\"\n",
       "                            OLS Regression Results                            \n",
       "==============================================================================\n",
       "Dep. Variable:          interest_rate   R-squared:                       0.008\n",
       "Model:                            OLS   Adj. R-squared:                  0.006\n",
       "Method:                 Least Squares   F-statistic:                     4.183\n",
       "Date:                Tue, 07 Jul 2015   Prob (F-statistic):           0.000869\n",
       "Time:                        09:34:05   Log-Likelihood:                -7093.5\n",
       "No. Observations:                2494   AIC:                         1.420e+04\n",
       "Df Residuals:                    2488   BIC:                         1.423e+04\n",
       "Df Model:                           5                                         \n",
       "Covariance Type:            nonrobust                                         \n",
       "=========================================================================================================\n",
       "                                            coef    std err          t      P>|t|      [95.0% Conf. Int.]\n",
       "---------------------------------------------------------------------------------------------------------\n",
       "Intercept                                12.6717      0.207     61.191      0.000        12.266    13.078\n",
       "home_ownership[T.OWN]                     0.3051      0.589      0.518      0.605        -0.851     1.461\n",
       "home_ownership[T.RENT]                    0.2115      0.331      0.639      0.523        -0.438     0.861\n",
       "monthly_income                         1.047e-05   2.51e-05      0.416      0.677     -3.88e-05  5.98e-05\n",
       "monthly_income:home_ownership[T.OWN]  -2.529e-05      0.000     -0.250      0.802        -0.000     0.000\n",
       "monthly_income:home_ownership[T.RENT]   9.76e-05   5.27e-05      1.853      0.064     -5.69e-06     0.000\n",
       "==============================================================================\n",
       "Omnibus:                       67.204   Durbin-Watson:                   1.993\n",
       "Prob(Omnibus):                  0.000   Jarque-Bera (JB):               53.680\n",
       "Skew:                           0.279   Prob(JB):                     2.21e-12\n",
       "Kurtosis:                       2.547   Cond. No.                     5.28e+04\n",
       "==============================================================================\n",
       "\n",
       "Warnings:\n",
       "[1] Standard Errors assume that the covariance matrix of the errors is correctly specified.\n",
       "[2] The condition number is large, 5.28e+04. This might indicate that there are\n",
       "strong multicollinearity or other numerical problems.\n",
       "\"\"\""
      ]
     },
     "execution_count": 29,
     "metadata": {},
     "output_type": "execute_result"
    }
   ],
   "source": [
    "est = smf.ols(formula='interest_rate ~ monthly_income * home_ownership', data=filtered_df).fit()\n",
    "\n",
    "est.summary()"
   ]
  },
  {
   "cell_type": "code",
   "execution_count": null,
   "metadata": {
    "collapsed": true
   },
   "outputs": [],
   "source": []
  }
 ],
 "metadata": {
  "kernelspec": {
   "display_name": "Python 2",
   "language": "python",
   "name": "python2"
  },
  "language_info": {
   "codemirror_mode": {
    "name": "ipython",
    "version": 2
   },
   "file_extension": ".py",
   "mimetype": "text/x-python",
   "name": "python",
   "nbconvert_exporter": "python",
   "pygments_lexer": "ipython2",
   "version": "2.7.6"
  }
 },
 "nbformat": 4,
 "nbformat_minor": 0
}
